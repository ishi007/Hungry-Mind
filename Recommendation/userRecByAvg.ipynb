{
 "cells": [
  {
   "cell_type": "code",
   "execution_count": 98,
   "metadata": {},
   "outputs": [],
   "source": [
    "from __future__ import print_function \n",
    "import boto3\n",
    "import os\n",
    "import pandas as pd\n",
    "from flask import Flask\n",
    "from pandas.io.json import json_normalize\n",
    "import numpy as np\n",
    "from datetime import datetime\n",
    "from dateutil.parser import parse\n",
    "from statistics import mean \n",
    "from datetime import timedelta"
   ]
  },
  {
   "cell_type": "code",
   "execution_count": 39,
   "metadata": {},
   "outputs": [],
   "source": [
    "dynamodb = boto3.resource('dynamodb', region_name='us-east-1')"
   ]
  },
  {
   "cell_type": "code",
   "execution_count": 40,
   "metadata": {},
   "outputs": [],
   "source": [
    "table = dynamodb.Table(\"hungrymind-mobilehub-593518188-Book_Borrow\")\n",
    "data_downloaded2 = table.scan()"
   ]
  },
  {
   "cell_type": "code",
   "execution_count": 41,
   "metadata": {},
   "outputs": [],
   "source": [
    "borrow = pd.DataFrame.from_dict(json_normalize(data_downloaded2['Items']))"
   ]
  },
  {
   "cell_type": "code",
   "execution_count": 43,
   "metadata": {},
   "outputs": [
    {
     "data": {
      "text/html": [
       "<div>\n",
       "<style scoped>\n",
       "    .dataframe tbody tr th:only-of-type {\n",
       "        vertical-align: middle;\n",
       "    }\n",
       "\n",
       "    .dataframe tbody tr th {\n",
       "        vertical-align: top;\n",
       "    }\n",
       "\n",
       "    .dataframe thead th {\n",
       "        text-align: right;\n",
       "    }\n",
       "</style>\n",
       "<table border=\"1\" class=\"dataframe\">\n",
       "  <thead>\n",
       "    <tr style=\"text-align: right;\">\n",
       "      <th></th>\n",
       "      <th>ActualRetDate</th>\n",
       "      <th>BookID</th>\n",
       "      <th>BorrowId</th>\n",
       "      <th>CustID</th>\n",
       "      <th>DateClaimToRet</th>\n",
       "      <th>DateOfBorrow</th>\n",
       "      <th>Rating</th>\n",
       "      <th>SupplierID</th>\n",
       "    </tr>\n",
       "  </thead>\n",
       "  <tbody>\n",
       "    <tr>\n",
       "      <th>0</th>\n",
       "      <td>1-12-1924</td>\n",
       "      <td>786907509</td>\n",
       "      <td>4666</td>\n",
       "      <td>1440</td>\n",
       "      <td>27-11-1924</td>\n",
       "      <td>20-11-1924</td>\n",
       "      <td>5</td>\n",
       "      <td>1</td>\n",
       "    </tr>\n",
       "    <tr>\n",
       "      <th>1</th>\n",
       "      <td>24-8-1967</td>\n",
       "      <td>310276993</td>\n",
       "      <td>3389</td>\n",
       "      <td>1435</td>\n",
       "      <td>22-8-1967</td>\n",
       "      <td>2-8-1967</td>\n",
       "      <td>4</td>\n",
       "      <td>1</td>\n",
       "    </tr>\n",
       "    <tr>\n",
       "      <th>2</th>\n",
       "      <td>1-5-1988</td>\n",
       "      <td>452282829</td>\n",
       "      <td>7315</td>\n",
       "      <td>1272</td>\n",
       "      <td>30-4-1988</td>\n",
       "      <td>19-4-1988</td>\n",
       "      <td>5</td>\n",
       "      <td>1</td>\n",
       "    </tr>\n",
       "    <tr>\n",
       "      <th>3</th>\n",
       "      <td>28-8-2015</td>\n",
       "      <td>805445528</td>\n",
       "      <td>1838</td>\n",
       "      <td>1258</td>\n",
       "      <td>26-8-2015</td>\n",
       "      <td>17-8-2015</td>\n",
       "      <td>1</td>\n",
       "      <td>1</td>\n",
       "    </tr>\n",
       "    <tr>\n",
       "      <th>4</th>\n",
       "      <td>27-9-1967</td>\n",
       "      <td>1591840538</td>\n",
       "      <td>7455</td>\n",
       "      <td>1125</td>\n",
       "      <td>27-9-1967</td>\n",
       "      <td>28-8-1967</td>\n",
       "      <td>0</td>\n",
       "      <td>1</td>\n",
       "    </tr>\n",
       "  </tbody>\n",
       "</table>\n",
       "</div>"
      ],
      "text/plain": [
       "  ActualRetDate      BookID BorrowId CustID DateClaimToRet DateOfBorrow  \\\n",
       "0     1-12-1924   786907509     4666   1440     27-11-1924   20-11-1924   \n",
       "1     24-8-1967   310276993     3389   1435      22-8-1967     2-8-1967   \n",
       "2      1-5-1988   452282829     7315   1272      30-4-1988    19-4-1988   \n",
       "3     28-8-2015   805445528     1838   1258      26-8-2015    17-8-2015   \n",
       "4     27-9-1967  1591840538     7455   1125      27-9-1967    28-8-1967   \n",
       "\n",
       "  Rating SupplierID  \n",
       "0      5          1  \n",
       "1      4          1  \n",
       "2      5          1  \n",
       "3      1          1  \n",
       "4      0          1  "
      ]
     },
     "execution_count": 43,
     "metadata": {},
     "output_type": "execute_result"
    }
   ],
   "source": [
    "borrow.drop(['CustId'],axis=1,inplace=True)\n",
    "borrow.head()"
   ]
  },
  {
   "cell_type": "code",
   "execution_count": 44,
   "metadata": {},
   "outputs": [
    {
     "data": {
      "text/html": [
       "<div>\n",
       "<style scoped>\n",
       "    .dataframe tbody tr th:only-of-type {\n",
       "        vertical-align: middle;\n",
       "    }\n",
       "\n",
       "    .dataframe tbody tr th {\n",
       "        vertical-align: top;\n",
       "    }\n",
       "\n",
       "    .dataframe thead th {\n",
       "        text-align: right;\n",
       "    }\n",
       "</style>\n",
       "<table border=\"1\" class=\"dataframe\">\n",
       "  <thead>\n",
       "    <tr style=\"text-align: right;\">\n",
       "      <th></th>\n",
       "      <th>ActualRetDate</th>\n",
       "      <th>CustID</th>\n",
       "      <th>DateClaimToRet</th>\n",
       "      <th>DateOfBorrow</th>\n",
       "    </tr>\n",
       "  </thead>\n",
       "  <tbody>\n",
       "    <tr>\n",
       "      <th>0</th>\n",
       "      <td>1-12-1924</td>\n",
       "      <td>1440</td>\n",
       "      <td>27-11-1924</td>\n",
       "      <td>20-11-1924</td>\n",
       "    </tr>\n",
       "    <tr>\n",
       "      <th>1</th>\n",
       "      <td>24-8-1967</td>\n",
       "      <td>1435</td>\n",
       "      <td>22-8-1967</td>\n",
       "      <td>2-8-1967</td>\n",
       "    </tr>\n",
       "    <tr>\n",
       "      <th>2</th>\n",
       "      <td>1-5-1988</td>\n",
       "      <td>1272</td>\n",
       "      <td>30-4-1988</td>\n",
       "      <td>19-4-1988</td>\n",
       "    </tr>\n",
       "    <tr>\n",
       "      <th>3</th>\n",
       "      <td>28-8-2015</td>\n",
       "      <td>1258</td>\n",
       "      <td>26-8-2015</td>\n",
       "      <td>17-8-2015</td>\n",
       "    </tr>\n",
       "    <tr>\n",
       "      <th>4</th>\n",
       "      <td>27-9-1967</td>\n",
       "      <td>1125</td>\n",
       "      <td>27-9-1967</td>\n",
       "      <td>28-8-1967</td>\n",
       "    </tr>\n",
       "  </tbody>\n",
       "</table>\n",
       "</div>"
      ],
      "text/plain": [
       "  ActualRetDate CustID DateClaimToRet DateOfBorrow\n",
       "0     1-12-1924   1440     27-11-1924   20-11-1924\n",
       "1     24-8-1967   1435      22-8-1967     2-8-1967\n",
       "2      1-5-1988   1272      30-4-1988    19-4-1988\n",
       "3     28-8-2015   1258      26-8-2015    17-8-2015\n",
       "4     27-9-1967   1125      27-9-1967    28-8-1967"
      ]
     },
     "execution_count": 44,
     "metadata": {},
     "output_type": "execute_result"
    }
   ],
   "source": [
    "user_records = borrow.drop(['BorrowId','BookID','Rating','SupplierID'] , axis = 1)\n",
    "user_records.head()"
   ]
  },
  {
   "cell_type": "code",
   "execution_count": 45,
   "metadata": {},
   "outputs": [
    {
     "data": {
      "text/html": [
       "<div>\n",
       "<style scoped>\n",
       "    .dataframe tbody tr th:only-of-type {\n",
       "        vertical-align: middle;\n",
       "    }\n",
       "\n",
       "    .dataframe tbody tr th {\n",
       "        vertical-align: top;\n",
       "    }\n",
       "\n",
       "    .dataframe thead th {\n",
       "        text-align: right;\n",
       "    }\n",
       "</style>\n",
       "<table border=\"1\" class=\"dataframe\">\n",
       "  <thead>\n",
       "    <tr style=\"text-align: right;\">\n",
       "      <th></th>\n",
       "      <th>ActualRetDate</th>\n",
       "      <th>BookID</th>\n",
       "      <th>DateClaimToRet</th>\n",
       "      <th>DateOfBorrow</th>\n",
       "    </tr>\n",
       "  </thead>\n",
       "  <tbody>\n",
       "    <tr>\n",
       "      <th>0</th>\n",
       "      <td>1-12-1924</td>\n",
       "      <td>786907509</td>\n",
       "      <td>27-11-1924</td>\n",
       "      <td>20-11-1924</td>\n",
       "    </tr>\n",
       "    <tr>\n",
       "      <th>1</th>\n",
       "      <td>24-8-1967</td>\n",
       "      <td>310276993</td>\n",
       "      <td>22-8-1967</td>\n",
       "      <td>2-8-1967</td>\n",
       "    </tr>\n",
       "    <tr>\n",
       "      <th>2</th>\n",
       "      <td>1-5-1988</td>\n",
       "      <td>452282829</td>\n",
       "      <td>30-4-1988</td>\n",
       "      <td>19-4-1988</td>\n",
       "    </tr>\n",
       "    <tr>\n",
       "      <th>3</th>\n",
       "      <td>28-8-2015</td>\n",
       "      <td>805445528</td>\n",
       "      <td>26-8-2015</td>\n",
       "      <td>17-8-2015</td>\n",
       "    </tr>\n",
       "    <tr>\n",
       "      <th>4</th>\n",
       "      <td>27-9-1967</td>\n",
       "      <td>1591840538</td>\n",
       "      <td>27-9-1967</td>\n",
       "      <td>28-8-1967</td>\n",
       "    </tr>\n",
       "  </tbody>\n",
       "</table>\n",
       "</div>"
      ],
      "text/plain": [
       "  ActualRetDate      BookID DateClaimToRet DateOfBorrow\n",
       "0     1-12-1924   786907509     27-11-1924   20-11-1924\n",
       "1     24-8-1967   310276993      22-8-1967     2-8-1967\n",
       "2      1-5-1988   452282829      30-4-1988    19-4-1988\n",
       "3     28-8-2015   805445528      26-8-2015    17-8-2015\n",
       "4     27-9-1967  1591840538      27-9-1967    28-8-1967"
      ]
     },
     "execution_count": 45,
     "metadata": {},
     "output_type": "execute_result"
    }
   ],
   "source": [
    "book_records = borrow.drop(['BorrowId','CustID','Rating','SupplierID'] , axis = 1)\n",
    "book_records.head()"
   ]
  },
  {
   "cell_type": "code",
   "execution_count": 46,
   "metadata": {},
   "outputs": [],
   "source": [
    "current_user = 1448"
   ]
  },
  {
   "cell_type": "code",
   "execution_count": 47,
   "metadata": {},
   "outputs": [
    {
     "data": {
      "text/html": [
       "<div>\n",
       "<style scoped>\n",
       "    .dataframe tbody tr th:only-of-type {\n",
       "        vertical-align: middle;\n",
       "    }\n",
       "\n",
       "    .dataframe tbody tr th {\n",
       "        vertical-align: top;\n",
       "    }\n",
       "\n",
       "    .dataframe thead th {\n",
       "        text-align: right;\n",
       "    }\n",
       "</style>\n",
       "<table border=\"1\" class=\"dataframe\">\n",
       "  <thead>\n",
       "    <tr style=\"text-align: right;\">\n",
       "      <th></th>\n",
       "      <th>ActualRetDate</th>\n",
       "      <th>CustID</th>\n",
       "      <th>DateClaimToRet</th>\n",
       "      <th>DateOfBorrow</th>\n",
       "    </tr>\n",
       "  </thead>\n",
       "  <tbody>\n",
       "    <tr>\n",
       "      <th>253</th>\n",
       "      <td>2-10-1983</td>\n",
       "      <td>1448</td>\n",
       "      <td>3-10-1983</td>\n",
       "      <td>18-9-1983</td>\n",
       "    </tr>\n",
       "    <tr>\n",
       "      <th>291</th>\n",
       "      <td>12-10-1928</td>\n",
       "      <td>1448</td>\n",
       "      <td>11-10-1928</td>\n",
       "      <td>22-9-1928</td>\n",
       "    </tr>\n",
       "    <tr>\n",
       "      <th>374</th>\n",
       "      <td>23-11-1903</td>\n",
       "      <td>1448</td>\n",
       "      <td>19-11-1903</td>\n",
       "      <td>29-10-1903</td>\n",
       "    </tr>\n",
       "    <tr>\n",
       "      <th>856</th>\n",
       "      <td>NaN</td>\n",
       "      <td>1448</td>\n",
       "      <td>04-06-2019</td>\n",
       "      <td>25-5-2019</td>\n",
       "    </tr>\n",
       "    <tr>\n",
       "      <th>932</th>\n",
       "      <td>19-7-1974</td>\n",
       "      <td>1448</td>\n",
       "      <td>17-7-1974</td>\n",
       "      <td>27-6-1974</td>\n",
       "    </tr>\n",
       "  </tbody>\n",
       "</table>\n",
       "</div>"
      ],
      "text/plain": [
       "    ActualRetDate CustID DateClaimToRet DateOfBorrow\n",
       "253     2-10-1983   1448      3-10-1983    18-9-1983\n",
       "291    12-10-1928   1448     11-10-1928    22-9-1928\n",
       "374    23-11-1903   1448     19-11-1903   29-10-1903\n",
       "856           NaN   1448     04-06-2019    25-5-2019\n",
       "932     19-7-1974   1448      17-7-1974    27-6-1974"
      ]
     },
     "execution_count": 47,
     "metadata": {},
     "output_type": "execute_result"
    }
   ],
   "source": [
    "curr_user_records = user_records[user_records.CustID == current_user]\n",
    "curr_user_records.head()"
   ]
  },
  {
   "cell_type": "code",
   "execution_count": 48,
   "metadata": {},
   "outputs": [
    {
     "data": {
      "text/html": [
       "<div>\n",
       "<style scoped>\n",
       "    .dataframe tbody tr th:only-of-type {\n",
       "        vertical-align: middle;\n",
       "    }\n",
       "\n",
       "    .dataframe tbody tr th {\n",
       "        vertical-align: top;\n",
       "    }\n",
       "\n",
       "    .dataframe thead th {\n",
       "        text-align: right;\n",
       "    }\n",
       "</style>\n",
       "<table border=\"1\" class=\"dataframe\">\n",
       "  <thead>\n",
       "    <tr style=\"text-align: right;\">\n",
       "      <th></th>\n",
       "      <th>ActualRetDate</th>\n",
       "      <th>DateClaimToRet</th>\n",
       "      <th>DateOfBorrow</th>\n",
       "    </tr>\n",
       "  </thead>\n",
       "  <tbody>\n",
       "    <tr>\n",
       "      <th>253</th>\n",
       "      <td>2-10-1983</td>\n",
       "      <td>3-10-1983</td>\n",
       "      <td>18-9-1983</td>\n",
       "    </tr>\n",
       "    <tr>\n",
       "      <th>291</th>\n",
       "      <td>12-10-1928</td>\n",
       "      <td>11-10-1928</td>\n",
       "      <td>22-9-1928</td>\n",
       "    </tr>\n",
       "    <tr>\n",
       "      <th>374</th>\n",
       "      <td>23-11-1903</td>\n",
       "      <td>19-11-1903</td>\n",
       "      <td>29-10-1903</td>\n",
       "    </tr>\n",
       "    <tr>\n",
       "      <th>856</th>\n",
       "      <td>NaN</td>\n",
       "      <td>04-06-2019</td>\n",
       "      <td>25-5-2019</td>\n",
       "    </tr>\n",
       "    <tr>\n",
       "      <th>932</th>\n",
       "      <td>19-7-1974</td>\n",
       "      <td>17-7-1974</td>\n",
       "      <td>27-6-1974</td>\n",
       "    </tr>\n",
       "  </tbody>\n",
       "</table>\n",
       "</div>"
      ],
      "text/plain": [
       "    ActualRetDate DateClaimToRet DateOfBorrow\n",
       "253     2-10-1983      3-10-1983    18-9-1983\n",
       "291    12-10-1928     11-10-1928    22-9-1928\n",
       "374    23-11-1903     19-11-1903   29-10-1903\n",
       "856           NaN     04-06-2019    25-5-2019\n",
       "932     19-7-1974      17-7-1974    27-6-1974"
      ]
     },
     "execution_count": 48,
     "metadata": {},
     "output_type": "execute_result"
    }
   ],
   "source": [
    "curr_user_records.drop(['CustID'] , axis = 1 ,inplace=True)\n",
    "curr_user_records.head()"
   ]
  },
  {
   "cell_type": "code",
   "execution_count": 53,
   "metadata": {},
   "outputs": [],
   "source": [
    "current_book = 385333218"
   ]
  },
  {
   "cell_type": "code",
   "execution_count": 57,
   "metadata": {},
   "outputs": [
    {
     "data": {
      "text/html": [
       "<div>\n",
       "<style scoped>\n",
       "    .dataframe tbody tr th:only-of-type {\n",
       "        vertical-align: middle;\n",
       "    }\n",
       "\n",
       "    .dataframe tbody tr th {\n",
       "        vertical-align: top;\n",
       "    }\n",
       "\n",
       "    .dataframe thead th {\n",
       "        text-align: right;\n",
       "    }\n",
       "</style>\n",
       "<table border=\"1\" class=\"dataframe\">\n",
       "  <thead>\n",
       "    <tr style=\"text-align: right;\">\n",
       "      <th></th>\n",
       "      <th>ActualRetDate</th>\n",
       "      <th>BookID</th>\n",
       "      <th>DateClaimToRet</th>\n",
       "      <th>DateOfBorrow</th>\n",
       "    </tr>\n",
       "  </thead>\n",
       "  <tbody>\n",
       "    <tr>\n",
       "      <th>856</th>\n",
       "      <td>NaN</td>\n",
       "      <td>385333218</td>\n",
       "      <td>04-06-2019</td>\n",
       "      <td>25-5-2019</td>\n",
       "    </tr>\n",
       "    <tr>\n",
       "      <th>2405</th>\n",
       "      <td>24-9-1998</td>\n",
       "      <td>385333218</td>\n",
       "      <td>25-9-1998</td>\n",
       "      <td>11-9-1998</td>\n",
       "    </tr>\n",
       "    <tr>\n",
       "      <th>3682</th>\n",
       "      <td>27-11-1947</td>\n",
       "      <td>385333218</td>\n",
       "      <td>20-11-1947</td>\n",
       "      <td>6-11-1947</td>\n",
       "    </tr>\n",
       "  </tbody>\n",
       "</table>\n",
       "</div>"
      ],
      "text/plain": [
       "     ActualRetDate     BookID DateClaimToRet DateOfBorrow\n",
       "856            NaN  385333218     04-06-2019    25-5-2019\n",
       "2405     24-9-1998  385333218      25-9-1998    11-9-1998\n",
       "3682    27-11-1947  385333218     20-11-1947    6-11-1947"
      ]
     },
     "execution_count": 57,
     "metadata": {},
     "output_type": "execute_result"
    }
   ],
   "source": [
    "curr_book_records = book_records[book_records.BookID == current_book]\n",
    "curr_book_records.head()"
   ]
  },
  {
   "cell_type": "code",
   "execution_count": 58,
   "metadata": {},
   "outputs": [
    {
     "data": {
      "text/html": [
       "<div>\n",
       "<style scoped>\n",
       "    .dataframe tbody tr th:only-of-type {\n",
       "        vertical-align: middle;\n",
       "    }\n",
       "\n",
       "    .dataframe tbody tr th {\n",
       "        vertical-align: top;\n",
       "    }\n",
       "\n",
       "    .dataframe thead th {\n",
       "        text-align: right;\n",
       "    }\n",
       "</style>\n",
       "<table border=\"1\" class=\"dataframe\">\n",
       "  <thead>\n",
       "    <tr style=\"text-align: right;\">\n",
       "      <th></th>\n",
       "      <th>ActualRetDate</th>\n",
       "      <th>DateClaimToRet</th>\n",
       "      <th>DateOfBorrow</th>\n",
       "    </tr>\n",
       "  </thead>\n",
       "  <tbody>\n",
       "    <tr>\n",
       "      <th>856</th>\n",
       "      <td>NaN</td>\n",
       "      <td>04-06-2019</td>\n",
       "      <td>25-5-2019</td>\n",
       "    </tr>\n",
       "    <tr>\n",
       "      <th>2405</th>\n",
       "      <td>24-9-1998</td>\n",
       "      <td>25-9-1998</td>\n",
       "      <td>11-9-1998</td>\n",
       "    </tr>\n",
       "    <tr>\n",
       "      <th>3682</th>\n",
       "      <td>27-11-1947</td>\n",
       "      <td>20-11-1947</td>\n",
       "      <td>6-11-1947</td>\n",
       "    </tr>\n",
       "  </tbody>\n",
       "</table>\n",
       "</div>"
      ],
      "text/plain": [
       "     ActualRetDate DateClaimToRet DateOfBorrow\n",
       "856            NaN     04-06-2019    25-5-2019\n",
       "2405     24-9-1998      25-9-1998    11-9-1998\n",
       "3682    27-11-1947     20-11-1947    6-11-1947"
      ]
     },
     "execution_count": 58,
     "metadata": {},
     "output_type": "execute_result"
    }
   ],
   "source": [
    "curr_book_records.drop(['BookID'] , axis = 1 ,inplace=True)\n",
    "curr_book_records.head()"
   ]
  },
  {
   "cell_type": "code",
   "execution_count": 62,
   "metadata": {},
   "outputs": [
    {
     "data": {
      "text/html": [
       "<div>\n",
       "<style scoped>\n",
       "    .dataframe tbody tr th:only-of-type {\n",
       "        vertical-align: middle;\n",
       "    }\n",
       "\n",
       "    .dataframe tbody tr th {\n",
       "        vertical-align: top;\n",
       "    }\n",
       "\n",
       "    .dataframe thead th {\n",
       "        text-align: right;\n",
       "    }\n",
       "</style>\n",
       "<table border=\"1\" class=\"dataframe\">\n",
       "  <thead>\n",
       "    <tr style=\"text-align: right;\">\n",
       "      <th></th>\n",
       "      <th>ActualRetDate</th>\n",
       "      <th>DateClaimToRet</th>\n",
       "      <th>DateOfBorrow</th>\n",
       "    </tr>\n",
       "  </thead>\n",
       "  <tbody>\n",
       "    <tr>\n",
       "      <th>856</th>\n",
       "      <td>NaN</td>\n",
       "      <td>04-06-2019</td>\n",
       "      <td>25-5-2019</td>\n",
       "    </tr>\n",
       "  </tbody>\n",
       "</table>\n",
       "</div>"
      ],
      "text/plain": [
       "    ActualRetDate DateClaimToRet DateOfBorrow\n",
       "856           NaN     04-06-2019    25-5-2019"
      ]
     },
     "execution_count": 62,
     "metadata": {},
     "output_type": "execute_result"
    }
   ],
   "source": [
    "to_be_predicted = curr_book_records[curr_book_records['ActualRetDate'].isnull()]\n",
    "to_be_predicted"
   ]
  },
  {
   "cell_type": "code",
   "execution_count": 63,
   "metadata": {},
   "outputs": [
    {
     "name": "stderr",
     "output_type": "stream",
     "text": [
      "C:\\Users\\Lenovo\\Anaconda3\\envs\\ishita\\lib\\site-packages\\ipykernel_launcher.py:1: SettingWithCopyWarning: \n",
      "A value is trying to be set on a copy of a slice from a DataFrame\n",
      "\n",
      "See the caveats in the documentation: http://pandas.pydata.org/pandas-docs/stable/indexing.html#indexing-view-versus-copy\n",
      "  \"\"\"Entry point for launching an IPython kernel.\n"
     ]
    },
    {
     "data": {
      "text/html": [
       "<div>\n",
       "<style scoped>\n",
       "    .dataframe tbody tr th:only-of-type {\n",
       "        vertical-align: middle;\n",
       "    }\n",
       "\n",
       "    .dataframe tbody tr th {\n",
       "        vertical-align: top;\n",
       "    }\n",
       "\n",
       "    .dataframe thead th {\n",
       "        text-align: right;\n",
       "    }\n",
       "</style>\n",
       "<table border=\"1\" class=\"dataframe\">\n",
       "  <thead>\n",
       "    <tr style=\"text-align: right;\">\n",
       "      <th></th>\n",
       "      <th>ActualRetDate</th>\n",
       "      <th>DateClaimToRet</th>\n",
       "      <th>DateOfBorrow</th>\n",
       "    </tr>\n",
       "  </thead>\n",
       "  <tbody>\n",
       "    <tr>\n",
       "      <th>2405</th>\n",
       "      <td>24-9-1998</td>\n",
       "      <td>25-9-1998</td>\n",
       "      <td>11-9-1998</td>\n",
       "    </tr>\n",
       "    <tr>\n",
       "      <th>3682</th>\n",
       "      <td>27-11-1947</td>\n",
       "      <td>20-11-1947</td>\n",
       "      <td>6-11-1947</td>\n",
       "    </tr>\n",
       "  </tbody>\n",
       "</table>\n",
       "</div>"
      ],
      "text/plain": [
       "     ActualRetDate DateClaimToRet DateOfBorrow\n",
       "2405     24-9-1998      25-9-1998    11-9-1998\n",
       "3682    27-11-1947     20-11-1947    6-11-1947"
      ]
     },
     "execution_count": 63,
     "metadata": {},
     "output_type": "execute_result"
    }
   ],
   "source": [
    "curr_book_records.dropna(inplace=True)\n",
    "curr_book_records.head()"
   ]
  },
  {
   "cell_type": "code",
   "execution_count": 64,
   "metadata": {},
   "outputs": [
    {
     "name": "stderr",
     "output_type": "stream",
     "text": [
      "C:\\Users\\Lenovo\\Anaconda3\\envs\\ishita\\lib\\site-packages\\ipykernel_launcher.py:1: SettingWithCopyWarning: \n",
      "A value is trying to be set on a copy of a slice from a DataFrame\n",
      "\n",
      "See the caveats in the documentation: http://pandas.pydata.org/pandas-docs/stable/indexing.html#indexing-view-versus-copy\n",
      "  \"\"\"Entry point for launching an IPython kernel.\n"
     ]
    },
    {
     "data": {
      "text/html": [
       "<div>\n",
       "<style scoped>\n",
       "    .dataframe tbody tr th:only-of-type {\n",
       "        vertical-align: middle;\n",
       "    }\n",
       "\n",
       "    .dataframe tbody tr th {\n",
       "        vertical-align: top;\n",
       "    }\n",
       "\n",
       "    .dataframe thead th {\n",
       "        text-align: right;\n",
       "    }\n",
       "</style>\n",
       "<table border=\"1\" class=\"dataframe\">\n",
       "  <thead>\n",
       "    <tr style=\"text-align: right;\">\n",
       "      <th></th>\n",
       "      <th>ActualRetDate</th>\n",
       "      <th>DateClaimToRet</th>\n",
       "      <th>DateOfBorrow</th>\n",
       "    </tr>\n",
       "  </thead>\n",
       "  <tbody>\n",
       "    <tr>\n",
       "      <th>253</th>\n",
       "      <td>2-10-1983</td>\n",
       "      <td>3-10-1983</td>\n",
       "      <td>18-9-1983</td>\n",
       "    </tr>\n",
       "    <tr>\n",
       "      <th>291</th>\n",
       "      <td>12-10-1928</td>\n",
       "      <td>11-10-1928</td>\n",
       "      <td>22-9-1928</td>\n",
       "    </tr>\n",
       "    <tr>\n",
       "      <th>374</th>\n",
       "      <td>23-11-1903</td>\n",
       "      <td>19-11-1903</td>\n",
       "      <td>29-10-1903</td>\n",
       "    </tr>\n",
       "    <tr>\n",
       "      <th>932</th>\n",
       "      <td>19-7-1974</td>\n",
       "      <td>17-7-1974</td>\n",
       "      <td>27-6-1974</td>\n",
       "    </tr>\n",
       "    <tr>\n",
       "      <th>1071</th>\n",
       "      <td>24-10-1949</td>\n",
       "      <td>17-10-1949</td>\n",
       "      <td>22-9-1949</td>\n",
       "    </tr>\n",
       "  </tbody>\n",
       "</table>\n",
       "</div>"
      ],
      "text/plain": [
       "     ActualRetDate DateClaimToRet DateOfBorrow\n",
       "253      2-10-1983      3-10-1983    18-9-1983\n",
       "291     12-10-1928     11-10-1928    22-9-1928\n",
       "374     23-11-1903     19-11-1903   29-10-1903\n",
       "932      19-7-1974      17-7-1974    27-6-1974\n",
       "1071    24-10-1949     17-10-1949    22-9-1949"
      ]
     },
     "execution_count": 64,
     "metadata": {},
     "output_type": "execute_result"
    }
   ],
   "source": [
    "curr_user_records.dropna(inplace=True)\n",
    "curr_user_records.head()"
   ]
  },
  {
   "cell_type": "code",
   "execution_count": 106,
   "metadata": {},
   "outputs": [
    {
     "data": {
      "text/plain": [
       "datetime.datetime(2019, 6, 4, 0, 0)"
      ]
     },
     "execution_count": 106,
     "metadata": {},
     "output_type": "execute_result"
    }
   ],
   "source": [
    "date = to_be_predicted.DateClaimToRet.values\n",
    "datestr = str(date[0])\n",
    "curr_date_claim = datetime.strptime(datestr, '%d-%m-%Y')\n",
    "curr_date_claim "
   ]
  },
  {
   "cell_type": "code",
   "execution_count": 52,
   "metadata": {},
   "outputs": [],
   "source": [
    "def find_average(records):\n",
    "    actual_date = []\n",
    "    claimed_date = []\n",
    "\n",
    "    for i in range(len(records)):\n",
    "        actual_date.append(records.iloc[i,:].ActualRetDate)\n",
    "        claimed_date.append(records.iloc[i,:].DateClaimToRet)\n",
    "        \n",
    "    difference = []\n",
    "    for i in range(len(actual_date)):\n",
    "        ad = datetime.strptime(str(actual_date[i]), '%d-%m-%Y')\n",
    "        cd = datetime.strptime(str(claimed_date[i]), '%d-%m-%Y')\n",
    "        difference.append(int((cd-ad).days))\n",
    "     \n",
    "    average = mean(difference)  \n",
    "    return average"
   ]
  },
  {
   "cell_type": "code",
   "execution_count": 29,
   "metadata": {},
   "outputs": [
    {
     "name": "stdout",
     "output_type": "stream",
     "text": [
      "-2.0833333333333335 -3.5\n"
     ]
    }
   ],
   "source": [
    "average_cust = find_average(curr_user_records)\n",
    "average_book = find_average(curr_book_records)\n",
    "print(average_cust,average_book)"
   ]
  },
  {
   "cell_type": "code",
   "execution_count": 30,
   "metadata": {},
   "outputs": [],
   "source": [
    "total_avg = average_cust+average_book\n",
    "total_avg = total_avg/2"
   ]
  },
  {
   "cell_type": "code",
   "execution_count": 105,
   "metadata": {},
   "outputs": [
    {
     "data": {
      "text/plain": [
       "-3"
      ]
     },
     "execution_count": 105,
     "metadata": {},
     "output_type": "execute_result"
    }
   ],
   "source": [
    "round(total_avg)"
   ]
  },
  {
   "cell_type": "code",
   "execution_count": 109,
   "metadata": {},
   "outputs": [
    {
     "data": {
      "text/plain": [
       "'7-6-2019'"
      ]
     },
     "execution_count": 109,
     "metadata": {},
     "output_type": "execute_result"
    }
   ],
   "source": [
    "predicted_date = curr_date_claim - timedelta(days=round(total_avg))\n",
    "predicted_date_str = str(predicted_date.day)+\"-\"+str(predicted_date.month)+\"-\"+str(predicted_date.year)\n",
    "predicted_date_str"
   ]
  },
  {
   "cell_type": "code",
   "execution_count": null,
   "metadata": {},
   "outputs": [],
   "source": []
  }
 ],
 "metadata": {
  "kernelspec": {
   "display_name": "Python 3",
   "language": "python",
   "name": "python3"
  },
  "language_info": {
   "codemirror_mode": {
    "name": "ipython",
    "version": 3
   },
   "file_extension": ".py",
   "mimetype": "text/x-python",
   "name": "python",
   "nbconvert_exporter": "python",
   "pygments_lexer": "ipython3",
   "version": "3.6.7"
  }
 },
 "nbformat": 4,
 "nbformat_minor": 2
}
