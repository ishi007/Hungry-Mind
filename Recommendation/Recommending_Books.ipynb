{
 "cells": [
  {
   "cell_type": "code",
   "execution_count": 1,
   "metadata": {},
   "outputs": [],
   "source": [
    "import dynamodb_mapper\n",
    "import boto3\n",
    "import numpy as np\n",
    "import matplotlib.pyplot as plt\n",
    "import csv\n",
    "import json\n",
    "import pandas as pd\n",
    "import os\n",
    "import shutil\n",
    "from boto3 import resource\n",
    "from boto3.dynamodb.conditions import Key, Attr\n",
    "from sklearn.neighbors import NearestNeighbors"
   ]
  },
  {
   "cell_type": "code",
   "execution_count": 2,
   "metadata": {},
   "outputs": [],
   "source": [
    "dynamodb = boto3.resource('dynamodb', region_name='us-east-1')"
   ]
  },
  {
   "cell_type": "code",
   "execution_count": 3,
   "metadata": {},
   "outputs": [],
   "source": [
    "def download_and_convert_data(table , filename):\n",
    "    data_downloaded = download_data(table)\n",
    "    convert_to_csv(data_downloaded, filename)"
   ]
  },
  {
   "cell_type": "code",
   "execution_count": 4,
   "metadata": {},
   "outputs": [],
   "source": [
    "def download_data(table_name):\n",
    "    table = dynamodb.Table(table_name)\n",
    "    key = []\n",
    "    for obj in table.attribute_definitions:\n",
    "        key.append(obj['AttributeName'])\n",
    "    set_of_key = set(key)\n",
    "    item_count = table.item_count\n",
    "\n",
    "    data_downloaded = table.scan()\n",
    "    if data_downloaded is None:\n",
    "        return None\n",
    "\n",
    "    items = data_downloaded['Items']\n",
    "    column_names = set([])\n",
    "    for item in items:\n",
    "        column_names = column_names.union(set(item.keys()))\n",
    "    print(column_names)\n",
    "    print(\"Total downloaded records: \",len(items))\n",
    "\n",
    "    for c_name in column_names:\n",
    "        if c_name not in set_of_key:\n",
    "            key.append(c_name)\n",
    "    return {'items': items, 'keys': key}"
   ]
  },
  {
   "cell_type": "code",
   "execution_count": 5,
   "metadata": {},
   "outputs": [],
   "source": [
    "def convert_to_csv(data_downloaded, filename):\n",
    "    if data_downloaded is None:\n",
    "        return\n",
    "    if os.path.exists(filename):\n",
    "        shutil.rmtree(filename, ignore_errors=True)\n",
    "    with open(filename, 'w' ,encoding=\"utf-8\") as csvfile:\n",
    "        writer = csv.DictWriter(csvfile, delimiter=',', fieldnames=data_downloaded['keys'],quotechar='\"')\n",
    "        writer.writeheader()\n",
    "        writer.writerows(data_downloaded['items'])"
   ]
  },
  {
   "cell_type": "code",
   "execution_count": 6,
   "metadata": {},
   "outputs": [
    {
     "name": "stdout",
     "output_type": "stream",
     "text": [
      "{'custPass', 'custName', 'custNumber', 'custEmail', 'userId', 'custAddress'}\n",
      "Total downloaded records:  450\n"
     ]
    }
   ],
   "source": [
    "download_and_convert_data(\"hungrymind-mobilehub-593518188-Customer_table\" , \"user.csv\")"
   ]
  },
  {
   "cell_type": "code",
   "execution_count": 7,
   "metadata": {},
   "outputs": [
    {
     "name": "stdout",
     "output_type": "stream",
     "text": [
      "{'Price', 'Genre', 'ImageUrl', 'Author', 'ISBN', 'PublicationYear', 'Rating', 'BookName'}\n",
      "Total downloaded records:  5687\n"
     ]
    }
   ],
   "source": [
    "download_and_convert_data(\"hungrymind-mobilehub-593518188-Books\" , \"books.csv\")"
   ]
  },
  {
   "cell_type": "code",
   "execution_count": 8,
   "metadata": {},
   "outputs": [
    {
     "name": "stdout",
     "output_type": "stream",
     "text": [
      "{'ActualRetDate', 'DateOfBorrow', 'BookID', 'CustID', 'BorrowId', 'DateClaimToRet', 'Rating', 'SupplierID'}\n",
      "Total downloaded records:  1211\n"
     ]
    }
   ],
   "source": [
    "download_and_convert_data(\"hungrymind-mobilehub-593518188-BookBorrow\" , \"borrowed.csv\")"
   ]
  },
  {
   "cell_type": "code",
   "execution_count": 9,
   "metadata": {},
   "outputs": [],
   "source": [
    "books = pd.read_csv('books.csv',sep = ',' ,error_bad_lines = False , encoding = 'latin-1')\n",
    "users = pd.read_csv('user.csv',sep = ',' ,error_bad_lines = False , encoding = 'latin-1')\n",
    "borrow = pd.read_csv('borrowed.csv',sep = ',' ,error_bad_lines = False , encoding = 'latin-1')"
   ]
  },
  {
   "cell_type": "code",
   "execution_count": 10,
   "metadata": {},
   "outputs": [
    {
     "data": {
      "text/html": [
       "<div>\n",
       "<style scoped>\n",
       "    .dataframe tbody tr th:only-of-type {\n",
       "        vertical-align: middle;\n",
       "    }\n",
       "\n",
       "    .dataframe tbody tr th {\n",
       "        vertical-align: top;\n",
       "    }\n",
       "\n",
       "    .dataframe thead th {\n",
       "        text-align: right;\n",
       "    }\n",
       "</style>\n",
       "<table border=\"1\" class=\"dataframe\">\n",
       "  <thead>\n",
       "    <tr style=\"text-align: right;\">\n",
       "      <th></th>\n",
       "      <th>BorrowId</th>\n",
       "      <th>ActualRetDate</th>\n",
       "      <th>DateOfBorrow</th>\n",
       "      <th>BookID</th>\n",
       "      <th>CustID</th>\n",
       "      <th>DateClaimToRet</th>\n",
       "      <th>Rating</th>\n",
       "      <th>SupplierID</th>\n",
       "    </tr>\n",
       "  </thead>\n",
       "  <tbody>\n",
       "    <tr>\n",
       "      <th>0</th>\n",
       "      <td>251.0</td>\n",
       "      <td>16-6-1907</td>\n",
       "      <td>12-6-1907</td>\n",
       "      <td>1843914</td>\n",
       "      <td>1350</td>\n",
       "      <td>19-6-1907</td>\n",
       "      <td>0.797226</td>\n",
       "      <td>1</td>\n",
       "    </tr>\n",
       "    <tr>\n",
       "      <th>1</th>\n",
       "      <td>1838.0</td>\n",
       "      <td>2-11-1974</td>\n",
       "      <td>18-10-1974</td>\n",
       "      <td>6898682</td>\n",
       "      <td>1395</td>\n",
       "      <td>6-11-1974</td>\n",
       "      <td>2.316953</td>\n",
       "      <td>1</td>\n",
       "    </tr>\n",
       "    <tr>\n",
       "      <th>2</th>\n",
       "      <td>4119.0</td>\n",
       "      <td>21-2-2016</td>\n",
       "      <td>16-2-2016</td>\n",
       "      <td>1439148015</td>\n",
       "      <td>1462</td>\n",
       "      <td>22-2-2016</td>\n",
       "      <td>3.667239</td>\n",
       "      <td>1</td>\n",
       "    </tr>\n",
       "    <tr>\n",
       "      <th>3</th>\n",
       "      <td>2289.0</td>\n",
       "      <td>16-10-1986</td>\n",
       "      <td>13-10-1986</td>\n",
       "      <td>380815583</td>\n",
       "      <td>1469</td>\n",
       "      <td>17-10-1986</td>\n",
       "      <td>0.680867</td>\n",
       "      <td>1</td>\n",
       "    </tr>\n",
       "    <tr>\n",
       "      <th>4</th>\n",
       "      <td>4158.0</td>\n",
       "      <td>6-4-2011</td>\n",
       "      <td>20-3-2011</td>\n",
       "      <td>9799731232</td>\n",
       "      <td>1082</td>\n",
       "      <td>5-4-2011</td>\n",
       "      <td>1.505543</td>\n",
       "      <td>1</td>\n",
       "    </tr>\n",
       "  </tbody>\n",
       "</table>\n",
       "</div>"
      ],
      "text/plain": [
       "   BorrowId ActualRetDate DateOfBorrow      BookID  CustID DateClaimToRet  \\\n",
       "0     251.0     16-6-1907    12-6-1907     1843914    1350      19-6-1907   \n",
       "1    1838.0     2-11-1974   18-10-1974     6898682    1395      6-11-1974   \n",
       "2    4119.0     21-2-2016    16-2-2016  1439148015    1462      22-2-2016   \n",
       "3    2289.0    16-10-1986   13-10-1986   380815583    1469     17-10-1986   \n",
       "4    4158.0      6-4-2011    20-3-2011  9799731232    1082       5-4-2011   \n",
       "\n",
       "     Rating  SupplierID  \n",
       "0  0.797226           1  \n",
       "1  2.316953           1  \n",
       "2  3.667239           1  \n",
       "3  0.680867           1  \n",
       "4  1.505543           1  "
      ]
     },
     "execution_count": 10,
     "metadata": {},
     "output_type": "execute_result"
    }
   ],
   "source": [
    "borrow.head()"
   ]
  },
  {
   "cell_type": "code",
   "execution_count": 11,
   "metadata": {},
   "outputs": [
    {
     "data": {
      "text/html": [
       "<div>\n",
       "<style scoped>\n",
       "    .dataframe tbody tr th:only-of-type {\n",
       "        vertical-align: middle;\n",
       "    }\n",
       "\n",
       "    .dataframe tbody tr th {\n",
       "        vertical-align: top;\n",
       "    }\n",
       "\n",
       "    .dataframe thead th {\n",
       "        text-align: right;\n",
       "    }\n",
       "</style>\n",
       "<table border=\"1\" class=\"dataframe\">\n",
       "  <thead>\n",
       "    <tr style=\"text-align: right;\">\n",
       "      <th></th>\n",
       "      <th>ISBN</th>\n",
       "      <th>Price</th>\n",
       "      <th>Genre</th>\n",
       "      <th>ImageUrl</th>\n",
       "      <th>Author</th>\n",
       "      <th>PublicationYear</th>\n",
       "      <th>Rating</th>\n",
       "      <th>BookName</th>\n",
       "    </tr>\n",
       "  </thead>\n",
       "  <tbody>\n",
       "    <tr>\n",
       "      <th>0</th>\n",
       "      <td>803731558</td>\n",
       "      <td>813.0</td>\n",
       "      <td>Fantasy</td>\n",
       "      <td>https://images.gr-assets.com/books/1354846350m...</td>\n",
       "      <td>Frank Beddor</td>\n",
       "      <td>2007.0</td>\n",
       "      <td>3.85</td>\n",
       "      <td>Seeing Redd</td>\n",
       "    </tr>\n",
       "    <tr>\n",
       "      <th>1</th>\n",
       "      <td>385333218</td>\n",
       "      <td>1084.0</td>\n",
       "      <td>Literature</td>\n",
       "      <td>https://images.gr-assets.com/books/1320533768m...</td>\n",
       "      <td>Homer Hickam</td>\n",
       "      <td>1998.0</td>\n",
       "      <td>4.18</td>\n",
       "      <td>Rocket Boys</td>\n",
       "    </tr>\n",
       "    <tr>\n",
       "      <th>2</th>\n",
       "      <td>394837363</td>\n",
       "      <td>1049.0</td>\n",
       "      <td>Children</td>\n",
       "      <td>https://images.gr-assets.com/books/1344369033m...</td>\n",
       "      <td>\"Stan Berenstain, Jan Berenstain\"</td>\n",
       "      <td>1978.0</td>\n",
       "      <td>4.28</td>\n",
       "      <td>The Big Honey Hunt</td>\n",
       "    </tr>\n",
       "    <tr>\n",
       "      <th>3</th>\n",
       "      <td>78511477</td>\n",
       "      <td>248.0</td>\n",
       "      <td>Horror</td>\n",
       "      <td>https://s.gr-assets.com/assets/nophoto/book/11...</td>\n",
       "      <td>\"Roy Thomas, Dick Giordano, Mark D. Beazley, B...</td>\n",
       "      <td>2005.0</td>\n",
       "      <td>3.93</td>\n",
       "      <td>Stoker's Dracula</td>\n",
       "    </tr>\n",
       "    <tr>\n",
       "      <th>4</th>\n",
       "      <td>345403959</td>\n",
       "      <td>297.0</td>\n",
       "      <td>Fantasy</td>\n",
       "      <td>https://images.gr-assets.com/books/1333692194m...</td>\n",
       "      <td>\"David Eddings, Leigh Eddings\"</td>\n",
       "      <td>1995.0</td>\n",
       "      <td>4.07</td>\n",
       "      <td>Belgarath the Sorcerer</td>\n",
       "    </tr>\n",
       "  </tbody>\n",
       "</table>\n",
       "</div>"
      ],
      "text/plain": [
       "        ISBN   Price       Genre  \\\n",
       "0  803731558   813.0     Fantasy   \n",
       "1  385333218  1084.0  Literature   \n",
       "2  394837363  1049.0    Children   \n",
       "3   78511477   248.0      Horror   \n",
       "4  345403959   297.0     Fantasy   \n",
       "\n",
       "                                            ImageUrl  \\\n",
       "0  https://images.gr-assets.com/books/1354846350m...   \n",
       "1  https://images.gr-assets.com/books/1320533768m...   \n",
       "2  https://images.gr-assets.com/books/1344369033m...   \n",
       "3  https://s.gr-assets.com/assets/nophoto/book/11...   \n",
       "4  https://images.gr-assets.com/books/1333692194m...   \n",
       "\n",
       "                                              Author  PublicationYear  Rating  \\\n",
       "0                                       Frank Beddor           2007.0    3.85   \n",
       "1                                       Homer Hickam           1998.0    4.18   \n",
       "2                  \"Stan Berenstain, Jan Berenstain\"           1978.0    4.28   \n",
       "3  \"Roy Thomas, Dick Giordano, Mark D. Beazley, B...           2005.0    3.93   \n",
       "4                     \"David Eddings, Leigh Eddings\"           1995.0    4.07   \n",
       "\n",
       "                 BookName  \n",
       "0             Seeing Redd  \n",
       "1             Rocket Boys  \n",
       "2      The Big Honey Hunt  \n",
       "3        Stoker's Dracula  \n",
       "4  Belgarath the Sorcerer  "
      ]
     },
     "execution_count": 11,
     "metadata": {},
     "output_type": "execute_result"
    }
   ],
   "source": [
    "books.head()"
   ]
  },
  {
   "cell_type": "code",
   "execution_count": 12,
   "metadata": {},
   "outputs": [
    {
     "data": {
      "text/html": [
       "<div>\n",
       "<style scoped>\n",
       "    .dataframe tbody tr th:only-of-type {\n",
       "        vertical-align: middle;\n",
       "    }\n",
       "\n",
       "    .dataframe tbody tr th {\n",
       "        vertical-align: top;\n",
       "    }\n",
       "\n",
       "    .dataframe thead th {\n",
       "        text-align: right;\n",
       "    }\n",
       "</style>\n",
       "<table border=\"1\" class=\"dataframe\">\n",
       "  <thead>\n",
       "    <tr style=\"text-align: right;\">\n",
       "      <th></th>\n",
       "      <th>custEmail</th>\n",
       "      <th>custPass</th>\n",
       "      <th>custName</th>\n",
       "      <th>custNumber</th>\n",
       "      <th>userId</th>\n",
       "      <th>custAddress</th>\n",
       "    </tr>\n",
       "  </thead>\n",
       "  <tbody>\n",
       "    <tr>\n",
       "      <th>0</th>\n",
       "      <td>lburnard@burnard.com</td>\n",
       "      <td>WY82501</td>\n",
       "      <td>LauranBurnard</td>\n",
       "      <td>3073427795</td>\n",
       "      <td>1241</td>\n",
       "      <td>Riverton,Fremont,WY</td>\n",
       "    </tr>\n",
       "    <tr>\n",
       "      <th>1</th>\n",
       "      <td>sheron@aol.com</td>\n",
       "      <td>NY11101</td>\n",
       "      <td>SheronLouissant</td>\n",
       "      <td>7189768610</td>\n",
       "      <td>1370</td>\n",
       "      <td>Long Island City,Queens,NY</td>\n",
       "    </tr>\n",
       "    <tr>\n",
       "      <th>2</th>\n",
       "      <td>lizbeth@yahoo.com</td>\n",
       "      <td>CA90248</td>\n",
       "      <td>LizbethKohl</td>\n",
       "      <td>3106991222</td>\n",
       "      <td>1389</td>\n",
       "      <td>Gardena,Los Angeles,CA</td>\n",
       "    </tr>\n",
       "    <tr>\n",
       "      <th>3</th>\n",
       "      <td>mpelkowski@pelkowski.org</td>\n",
       "      <td>CA94080</td>\n",
       "      <td>MozellPelkowski</td>\n",
       "      <td>6509471215</td>\n",
       "      <td>1208</td>\n",
       "      <td>South San Francisco,San Mateo,CA</td>\n",
       "    </tr>\n",
       "    <tr>\n",
       "      <th>4</th>\n",
       "      <td>kayleigh.lace@yahoo.com</td>\n",
       "      <td>LA70508</td>\n",
       "      <td>KayleighLace</td>\n",
       "      <td>3377409323</td>\n",
       "      <td>1297</td>\n",
       "      <td>Lafayette,Lafayette,LA</td>\n",
       "    </tr>\n",
       "  </tbody>\n",
       "</table>\n",
       "</div>"
      ],
      "text/plain": [
       "                  custEmail custPass         custName  custNumber  userId  \\\n",
       "0      lburnard@burnard.com  WY82501    LauranBurnard  3073427795    1241   \n",
       "1            sheron@aol.com  NY11101  SheronLouissant  7189768610    1370   \n",
       "2         lizbeth@yahoo.com  CA90248      LizbethKohl  3106991222    1389   \n",
       "3  mpelkowski@pelkowski.org  CA94080  MozellPelkowski  6509471215    1208   \n",
       "4   kayleigh.lace@yahoo.com  LA70508     KayleighLace  3377409323    1297   \n",
       "\n",
       "                        custAddress  \n",
       "0               Riverton,Fremont,WY  \n",
       "1        Long Island City,Queens,NY  \n",
       "2            Gardena,Los Angeles,CA  \n",
       "3  South San Francisco,San Mateo,CA  \n",
       "4            Lafayette,Lafayette,LA  "
      ]
     },
     "execution_count": 12,
     "metadata": {},
     "output_type": "execute_result"
    }
   ],
   "source": [
    "users.head()"
   ]
  },
  {
   "cell_type": "code",
   "execution_count": 13,
   "metadata": {},
   "outputs": [
    {
     "data": {
      "text/html": [
       "<div>\n",
       "<style scoped>\n",
       "    .dataframe tbody tr th:only-of-type {\n",
       "        vertical-align: middle;\n",
       "    }\n",
       "\n",
       "    .dataframe tbody tr th {\n",
       "        vertical-align: top;\n",
       "    }\n",
       "\n",
       "    .dataframe thead th {\n",
       "        text-align: right;\n",
       "    }\n",
       "</style>\n",
       "<table border=\"1\" class=\"dataframe\">\n",
       "  <thead>\n",
       "    <tr style=\"text-align: right;\">\n",
       "      <th></th>\n",
       "      <th>ISBN</th>\n",
       "      <th>Price</th>\n",
       "      <th>Genre</th>\n",
       "      <th>ImageUrl</th>\n",
       "      <th>Author</th>\n",
       "      <th>PublicationYear</th>\n",
       "      <th>Rating</th>\n",
       "      <th>BookName</th>\n",
       "    </tr>\n",
       "  </thead>\n",
       "  <tbody>\n",
       "    <tr>\n",
       "      <th>1805</th>\n",
       "      <td>74074847</td>\n",
       "      <td>439.0</td>\n",
       "      <td>NaN</td>\n",
       "      <td>https://images.gr-assets.com/books/1473064526m...</td>\n",
       "      <td>Bill Watterson</td>\n",
       "      <td>2005.0</td>\n",
       "      <td>4.82</td>\n",
       "      <td>The Complete Calvin and Hobbes</td>\n",
       "    </tr>\n",
       "    <tr>\n",
       "      <th>4232</th>\n",
       "      <td>1569319626</td>\n",
       "      <td>167.0</td>\n",
       "      <td>NaN</td>\n",
       "      <td>https://images.gr-assets.com/books/1473064526m...</td>\n",
       "      <td>Volume 1\",,Rumiko Takahashi</td>\n",
       "      <td>1988.0</td>\n",
       "      <td>4.82</td>\n",
       "      <td>\"Ranma Â½</td>\n",
       "    </tr>\n",
       "    <tr>\n",
       "      <th>3910</th>\n",
       "      <td>740748475</td>\n",
       "      <td>167.0</td>\n",
       "      <td>NaN</td>\n",
       "      <td>https://images.gr-assets.com/books/1473064526m...</td>\n",
       "      <td>Bill Watterson</td>\n",
       "      <td>2005.0</td>\n",
       "      <td>4.82</td>\n",
       "      <td>The Complete Calvin and Hobbes</td>\n",
       "    </tr>\n",
       "    <tr>\n",
       "      <th>4397</th>\n",
       "      <td>1433502410</td>\n",
       "      <td>1514.0</td>\n",
       "      <td>NaN</td>\n",
       "      <td>https://images.gr-assets.com/books/1410151002m...</td>\n",
       "      <td>\"Anonymous, Lane T. Dennis, Wayne A. Grudem\"</td>\n",
       "      <td>2002.0</td>\n",
       "      <td>4.76</td>\n",
       "      <td>NaN</td>\n",
       "    </tr>\n",
       "    <tr>\n",
       "      <th>2340</th>\n",
       "      <td>842339523</td>\n",
       "      <td>331.0</td>\n",
       "      <td>NaN</td>\n",
       "      <td>https://images.gr-assets.com/books/1349032180m...</td>\n",
       "      <td>Francine Rivers</td>\n",
       "      <td>1993.0</td>\n",
       "      <td>4.76</td>\n",
       "      <td>Mark of the Lion Trilogy</td>\n",
       "    </tr>\n",
       "  </tbody>\n",
       "</table>\n",
       "</div>"
      ],
      "text/plain": [
       "            ISBN   Price Genre  \\\n",
       "1805    74074847   439.0   NaN   \n",
       "4232  1569319626   167.0   NaN   \n",
       "3910   740748475   167.0   NaN   \n",
       "4397  1433502410  1514.0   NaN   \n",
       "2340   842339523   331.0   NaN   \n",
       "\n",
       "                                               ImageUrl  \\\n",
       "1805  https://images.gr-assets.com/books/1473064526m...   \n",
       "4232  https://images.gr-assets.com/books/1473064526m...   \n",
       "3910  https://images.gr-assets.com/books/1473064526m...   \n",
       "4397  https://images.gr-assets.com/books/1410151002m...   \n",
       "2340  https://images.gr-assets.com/books/1349032180m...   \n",
       "\n",
       "                                            Author  PublicationYear  Rating  \\\n",
       "1805                                Bill Watterson           2005.0    4.82   \n",
       "4232                   Volume 1\",,Rumiko Takahashi           1988.0    4.82   \n",
       "3910                                Bill Watterson           2005.0    4.82   \n",
       "4397  \"Anonymous, Lane T. Dennis, Wayne A. Grudem\"           2002.0    4.76   \n",
       "2340                               Francine Rivers           1993.0    4.76   \n",
       "\n",
       "                            BookName  \n",
       "1805  The Complete Calvin and Hobbes  \n",
       "4232                       \"Ranma Â½  \n",
       "3910  The Complete Calvin and Hobbes  \n",
       "4397                             NaN  \n",
       "2340        Mark of the Lion Trilogy  "
      ]
     },
     "execution_count": 13,
     "metadata": {},
     "output_type": "execute_result"
    }
   ],
   "source": [
    "new_book = books.sort_values('Rating' , ascending = False)\n",
    "new_book.head()"
   ]
  },
  {
   "cell_type": "code",
   "execution_count": 14,
   "metadata": {},
   "outputs": [],
   "source": [
    "book_without_genre = new_book.drop(['Genre'] , axis = 1)"
   ]
  },
  {
   "cell_type": "code",
   "execution_count": 15,
   "metadata": {},
   "outputs": [],
   "source": [
    "valid_books = book_without_genre.dropna()"
   ]
  },
  {
   "cell_type": "code",
   "execution_count": 16,
   "metadata": {},
   "outputs": [],
   "source": [
    "top_rated = valid_books.head(10)\n",
    "top_rated_id = top_rated.ISBN"
   ]
  },
  {
   "cell_type": "code",
   "execution_count": 17,
   "metadata": {},
   "outputs": [
    {
     "name": "stdout",
     "output_type": "stream",
     "text": [
      "Top Rated books are :\n"
     ]
    },
    {
     "data": {
      "text/plain": [
       "1805                       The Complete Calvin and Hobbes\n",
       "4232                                            \"Ranma Â½\n",
       "3910                       The Complete Calvin and Hobbes\n",
       "2340                             Mark of the Lion Trilogy\n",
       "4441    There's Treasure Everywhere: A Calvin and Hobb...\n",
       "3520                      Complete Harry Potter Boxed Set\n",
       "2231               \"Harry Potter Collection (Harry Potter\n",
       "827                   The Authoritative Calvin and Hobbes\n",
       "3962    The Days Are Just Packed: A Calvin and Hobbes ...\n",
       "3091                                    \"The Way of Kings\n",
       "Name: BookName, dtype: object"
      ]
     },
     "execution_count": 17,
     "metadata": {},
     "output_type": "execute_result"
    }
   ],
   "source": [
    "print ('Top Rated books are :')\n",
    "top_rated.BookName"
   ]
  },
  {
   "cell_type": "code",
   "execution_count": 18,
   "metadata": {},
   "outputs": [
    {
     "data": {
      "text/html": [
       "<div>\n",
       "<style scoped>\n",
       "    .dataframe tbody tr th:only-of-type {\n",
       "        vertical-align: middle;\n",
       "    }\n",
       "\n",
       "    .dataframe tbody tr th {\n",
       "        vertical-align: top;\n",
       "    }\n",
       "\n",
       "    .dataframe thead th {\n",
       "        text-align: right;\n",
       "    }\n",
       "</style>\n",
       "<table border=\"1\" class=\"dataframe\">\n",
       "  <thead>\n",
       "    <tr style=\"text-align: right;\">\n",
       "      <th></th>\n",
       "      <th>BorrowId</th>\n",
       "      <th>ActualRetDate</th>\n",
       "      <th>DateOfBorrow</th>\n",
       "      <th>BookID</th>\n",
       "      <th>CustID</th>\n",
       "      <th>DateClaimToRet</th>\n",
       "      <th>Rating</th>\n",
       "      <th>SupplierID</th>\n",
       "    </tr>\n",
       "  </thead>\n",
       "  <tbody>\n",
       "    <tr>\n",
       "      <th>0</th>\n",
       "      <td>251.0</td>\n",
       "      <td>16-6-1907</td>\n",
       "      <td>12-6-1907</td>\n",
       "      <td>1843914</td>\n",
       "      <td>1350</td>\n",
       "      <td>19-6-1907</td>\n",
       "      <td>0.797226</td>\n",
       "      <td>1</td>\n",
       "    </tr>\n",
       "    <tr>\n",
       "      <th>1</th>\n",
       "      <td>1838.0</td>\n",
       "      <td>2-11-1974</td>\n",
       "      <td>18-10-1974</td>\n",
       "      <td>6898682</td>\n",
       "      <td>1395</td>\n",
       "      <td>6-11-1974</td>\n",
       "      <td>2.316953</td>\n",
       "      <td>1</td>\n",
       "    </tr>\n",
       "    <tr>\n",
       "      <th>2</th>\n",
       "      <td>4119.0</td>\n",
       "      <td>21-2-2016</td>\n",
       "      <td>16-2-2016</td>\n",
       "      <td>1439148015</td>\n",
       "      <td>1462</td>\n",
       "      <td>22-2-2016</td>\n",
       "      <td>3.667239</td>\n",
       "      <td>1</td>\n",
       "    </tr>\n",
       "    <tr>\n",
       "      <th>3</th>\n",
       "      <td>2289.0</td>\n",
       "      <td>16-10-1986</td>\n",
       "      <td>13-10-1986</td>\n",
       "      <td>380815583</td>\n",
       "      <td>1469</td>\n",
       "      <td>17-10-1986</td>\n",
       "      <td>0.680867</td>\n",
       "      <td>1</td>\n",
       "    </tr>\n",
       "    <tr>\n",
       "      <th>4</th>\n",
       "      <td>4158.0</td>\n",
       "      <td>6-4-2011</td>\n",
       "      <td>20-3-2011</td>\n",
       "      <td>9799731232</td>\n",
       "      <td>1082</td>\n",
       "      <td>5-4-2011</td>\n",
       "      <td>1.505543</td>\n",
       "      <td>1</td>\n",
       "    </tr>\n",
       "  </tbody>\n",
       "</table>\n",
       "</div>"
      ],
      "text/plain": [
       "   BorrowId ActualRetDate DateOfBorrow      BookID  CustID DateClaimToRet  \\\n",
       "0     251.0     16-6-1907    12-6-1907     1843914    1350      19-6-1907   \n",
       "1    1838.0     2-11-1974   18-10-1974     6898682    1395      6-11-1974   \n",
       "2    4119.0     21-2-2016    16-2-2016  1439148015    1462      22-2-2016   \n",
       "3    2289.0    16-10-1986   13-10-1986   380815583    1469     17-10-1986   \n",
       "4    4158.0      6-4-2011    20-3-2011  9799731232    1082       5-4-2011   \n",
       "\n",
       "     Rating  SupplierID  \n",
       "0  0.797226           1  \n",
       "1  2.316953           1  \n",
       "2  3.667239           1  \n",
       "3  0.680867           1  \n",
       "4  1.505543           1  "
      ]
     },
     "execution_count": 18,
     "metadata": {},
     "output_type": "execute_result"
    }
   ],
   "source": [
    "borrow.head()"
   ]
  },
  {
   "cell_type": "code",
   "execution_count": 19,
   "metadata": {},
   "outputs": [],
   "source": [
    "ratings = borrow.drop(['BorrowId','DateClaimToRet','SupplierID','DateOfBorrow','ActualRetDate'] , axis = 1)"
   ]
  },
  {
   "cell_type": "code",
   "execution_count": 20,
   "metadata": {},
   "outputs": [
    {
     "data": {
      "text/html": [
       "<div>\n",
       "<style scoped>\n",
       "    .dataframe tbody tr th:only-of-type {\n",
       "        vertical-align: middle;\n",
       "    }\n",
       "\n",
       "    .dataframe tbody tr th {\n",
       "        vertical-align: top;\n",
       "    }\n",
       "\n",
       "    .dataframe thead th {\n",
       "        text-align: right;\n",
       "    }\n",
       "</style>\n",
       "<table border=\"1\" class=\"dataframe\">\n",
       "  <thead>\n",
       "    <tr style=\"text-align: right;\">\n",
       "      <th></th>\n",
       "      <th>BookID</th>\n",
       "      <th>CustID</th>\n",
       "      <th>Rating</th>\n",
       "    </tr>\n",
       "  </thead>\n",
       "  <tbody>\n",
       "    <tr>\n",
       "      <th>0</th>\n",
       "      <td>1843914</td>\n",
       "      <td>1350</td>\n",
       "      <td>0.797226</td>\n",
       "    </tr>\n",
       "    <tr>\n",
       "      <th>1</th>\n",
       "      <td>6898682</td>\n",
       "      <td>1395</td>\n",
       "      <td>2.316953</td>\n",
       "    </tr>\n",
       "    <tr>\n",
       "      <th>2</th>\n",
       "      <td>1439148015</td>\n",
       "      <td>1462</td>\n",
       "      <td>3.667239</td>\n",
       "    </tr>\n",
       "    <tr>\n",
       "      <th>3</th>\n",
       "      <td>380815583</td>\n",
       "      <td>1469</td>\n",
       "      <td>0.680867</td>\n",
       "    </tr>\n",
       "    <tr>\n",
       "      <th>4</th>\n",
       "      <td>9799731232</td>\n",
       "      <td>1082</td>\n",
       "      <td>1.505543</td>\n",
       "    </tr>\n",
       "  </tbody>\n",
       "</table>\n",
       "</div>"
      ],
      "text/plain": [
       "       BookID  CustID    Rating\n",
       "0     1843914    1350  0.797226\n",
       "1     6898682    1395  2.316953\n",
       "2  1439148015    1462  3.667239\n",
       "3   380815583    1469  0.680867\n",
       "4  9799731232    1082  1.505543"
      ]
     },
     "execution_count": 20,
     "metadata": {},
     "output_type": "execute_result"
    }
   ],
   "source": [
    "ratings.head()"
   ]
  },
  {
   "cell_type": "code",
   "execution_count": 21,
   "metadata": {},
   "outputs": [
    {
     "data": {
      "text/plain": [
       "(1211, 3)"
      ]
     },
     "execution_count": 21,
     "metadata": {},
     "output_type": "execute_result"
    }
   ],
   "source": [
    "ratings.shape"
   ]
  },
  {
   "cell_type": "code",
   "execution_count": 22,
   "metadata": {},
   "outputs": [
    {
     "data": {
      "text/plain": [
       "(1052, 3)"
      ]
     },
     "execution_count": 22,
     "metadata": {},
     "output_type": "execute_result"
    }
   ],
   "source": [
    "rat_new = ratings[ratings.BookID.isin(books.ISBN)]\n",
    "rat_new = rat_new[rat_new.CustID.isin(users.userId)]\n",
    "rat_new.shape"
   ]
  },
  {
   "cell_type": "code",
   "execution_count": 23,
   "metadata": {},
   "outputs": [
    {
     "data": {
      "text/html": [
       "<div>\n",
       "<style scoped>\n",
       "    .dataframe tbody tr th:only-of-type {\n",
       "        vertical-align: middle;\n",
       "    }\n",
       "\n",
       "    .dataframe tbody tr th {\n",
       "        vertical-align: top;\n",
       "    }\n",
       "\n",
       "    .dataframe thead th {\n",
       "        text-align: right;\n",
       "    }\n",
       "</style>\n",
       "<table border=\"1\" class=\"dataframe\">\n",
       "  <thead>\n",
       "    <tr style=\"text-align: right;\">\n",
       "      <th></th>\n",
       "      <th>Rating</th>\n",
       "    </tr>\n",
       "    <tr>\n",
       "      <th>BookID</th>\n",
       "      <th></th>\n",
       "    </tr>\n",
       "  </thead>\n",
       "  <tbody>\n",
       "    <tr>\n",
       "      <th>806527285</th>\n",
       "      <td>4</td>\n",
       "    </tr>\n",
       "    <tr>\n",
       "      <th>59041602</th>\n",
       "      <td>4</td>\n",
       "    </tr>\n",
       "    <tr>\n",
       "      <th>446696129</th>\n",
       "      <td>4</td>\n",
       "    </tr>\n",
       "    <tr>\n",
       "      <th>743297334</th>\n",
       "      <td>3</td>\n",
       "    </tr>\n",
       "    <tr>\n",
       "      <th>439995442</th>\n",
       "      <td>3</td>\n",
       "    </tr>\n",
       "  </tbody>\n",
       "</table>\n",
       "</div>"
      ],
      "text/plain": [
       "           Rating\n",
       "BookID           \n",
       "806527285       4\n",
       "59041602        4\n",
       "446696129       4\n",
       "743297334       3\n",
       "439995442       3"
      ]
     },
     "execution_count": 23,
     "metadata": {},
     "output_type": "execute_result"
    }
   ],
   "source": [
    "ratings_ex = rat_new[rat_new.Rating != 0]\n",
    "rat_count = pd.DataFrame(ratings_ex.groupby('BookID')['Rating'].count())\n",
    "rat_count.sort_values('Rating' , ascending = False ,inplace = True)\n",
    "rat_count.head()"
   ]
  },
  {
   "cell_type": "code",
   "execution_count": 24,
   "metadata": {},
   "outputs": [],
   "source": [
    "most_rated = books[books.ISBN.isin(rat_count.index)]\n",
    "most_r = most_rated.head(10)\n",
    "most_rat_Id = most_r.ISBN"
   ]
  },
  {
   "cell_type": "code",
   "execution_count": 25,
   "metadata": {},
   "outputs": [
    {
     "name": "stdout",
     "output_type": "stream",
     "text": [
      "Most Rated Books are : \n"
     ]
    },
    {
     "data": {
      "text/plain": [
       "1                                           Rocket Boys\n",
       "4                                Belgarath the Sorcerer\n",
       "5                                                  East\n",
       "9     The Knowledge of the Holy: The Attributes of G...\n",
       "12                                The Phantom Tollbooth\n",
       "13                                        Death du Jour\n",
       "15                                     Fates and Furies\n",
       "27                                      Aloha from Hell\n",
       "28                                      The Ruby Knight\n",
       "31                                   The Caves of Steel\n",
       "Name: BookName, dtype: object"
      ]
     },
     "execution_count": 25,
     "metadata": {},
     "output_type": "execute_result"
    }
   ],
   "source": [
    "print ('Most Rated Books are : ')\n",
    "most_r.BookName"
   ]
  },
  {
   "cell_type": "code",
   "execution_count": 26,
   "metadata": {},
   "outputs": [
    {
     "data": {
      "text/html": [
       "<div>\n",
       "<style scoped>\n",
       "    .dataframe tbody tr th:only-of-type {\n",
       "        vertical-align: middle;\n",
       "    }\n",
       "\n",
       "    .dataframe tbody tr th {\n",
       "        vertical-align: top;\n",
       "    }\n",
       "\n",
       "    .dataframe thead th {\n",
       "        text-align: right;\n",
       "    }\n",
       "</style>\n",
       "<table border=\"1\" class=\"dataframe\">\n",
       "  <thead>\n",
       "    <tr style=\"text-align: right;\">\n",
       "      <th></th>\n",
       "      <th>BookID</th>\n",
       "      <th>CustID</th>\n",
       "      <th>Rating</th>\n",
       "    </tr>\n",
       "  </thead>\n",
       "  <tbody>\n",
       "    <tr>\n",
       "      <th>2</th>\n",
       "      <td>1439148015</td>\n",
       "      <td>1462</td>\n",
       "      <td>3.667239</td>\n",
       "    </tr>\n",
       "    <tr>\n",
       "      <th>3</th>\n",
       "      <td>380815583</td>\n",
       "      <td>1469</td>\n",
       "      <td>0.680867</td>\n",
       "    </tr>\n",
       "    <tr>\n",
       "      <th>4</th>\n",
       "      <td>9799731232</td>\n",
       "      <td>1082</td>\n",
       "      <td>1.505543</td>\n",
       "    </tr>\n",
       "    <tr>\n",
       "      <th>5</th>\n",
       "      <td>1420925229</td>\n",
       "      <td>1200</td>\n",
       "      <td>1.859964</td>\n",
       "    </tr>\n",
       "    <tr>\n",
       "      <th>6</th>\n",
       "      <td>689865406</td>\n",
       "      <td>1115</td>\n",
       "      <td>1.903698</td>\n",
       "    </tr>\n",
       "  </tbody>\n",
       "</table>\n",
       "</div>"
      ],
      "text/plain": [
       "       BookID  CustID    Rating\n",
       "2  1439148015    1462  3.667239\n",
       "3   380815583    1469  0.680867\n",
       "4  9799731232    1082  1.505543\n",
       "5  1420925229    1200  1.859964\n",
       "6   689865406    1115  1.903698"
      ]
     },
     "execution_count": 26,
     "metadata": {},
     "output_type": "execute_result"
    }
   ],
   "source": [
    "ratings_ex.head()"
   ]
  },
  {
   "cell_type": "code",
   "execution_count": 27,
   "metadata": {},
   "outputs": [],
   "source": [
    "r_matrix = ratings_ex.pivot_table(\n",
    "    index='CustID',\n",
    "    columns='BookID',\n",
    "    values='Rating',\n",
    "    aggfunc = np.mean\n",
    ").fillna(0)"
   ]
  },
  {
   "cell_type": "code",
   "execution_count": 28,
   "metadata": {},
   "outputs": [],
   "source": [
    "model_knn = NearestNeighbors(metric='cosine', algorithm='brute', n_neighbors=5, n_jobs=-1)"
   ]
  },
  {
   "cell_type": "code",
   "execution_count": 29,
   "metadata": {},
   "outputs": [
    {
     "data": {
      "text/plain": [
       "NearestNeighbors(algorithm='brute', leaf_size=30, metric='cosine',\n",
       "         metric_params=None, n_jobs=-1, n_neighbors=5, p=2, radius=1.0)"
      ]
     },
     "execution_count": 29,
     "metadata": {},
     "output_type": "execute_result"
    }
   ],
   "source": [
    "model_knn.fit(r_matrix.T)"
   ]
  },
  {
   "cell_type": "code",
   "execution_count": 30,
   "metadata": {},
   "outputs": [],
   "source": [
    "def item_similarity(isbn , rat):\n",
    "    similarities = []\n",
    "    indices = []\n",
    "    rat = rat.T\n",
    "    loc = rat.index.get_loc(isbn)\n",
    "    distances ,indices = model_knn.kneighbors(rat.iloc[loc , :].values.reshape(1,-1))\n",
    "    similarities = 1 - distances.flatten()\n",
    "    return similarities, indices"
   ]
  },
  {
   "cell_type": "code",
   "execution_count": 31,
   "metadata": {},
   "outputs": [],
   "source": [
    "def predict_item(uid , isbn , rat):\n",
    "    prediction = w_sum = 0\n",
    "    uloc = rat.index.get_loc(uid)\n",
    "    itloc = rat.columns.get_loc(isbn)\n",
    "    similarities , indices = item_similarity(isbn , rat)\n",
    "    sum_of_similarities = np.sum(similarities) - 1\n",
    "    if sum_of_similarities == 0:\n",
    "        sum_of_similarities = 1\n",
    "    product = 1\n",
    "    for i in range(0 , len(indices.flatten())):\n",
    "        if indices.flatten()[i] == itloc:\n",
    "            continue;\n",
    "        else:\n",
    "            product = rat.iloc[uloc,indices.flatten()[i]]\n",
    "            product = product*(similarities[i])\n",
    "            w_sum = w_sum + product\n",
    "            \n",
    "    prediction = round(w_sum/sum_of_similarities)\n",
    "    if prediction <=0:\n",
    "        prediction = 1\n",
    "    elif prediction >10:\n",
    "        prediction = 10\n",
    "\n",
    "    return prediction"
   ]
  },
  {
   "cell_type": "code",
   "execution_count": 32,
   "metadata": {},
   "outputs": [
    {
     "name": "stdout",
     "output_type": "stream",
     "text": [
      "1200\n",
      "Recommended books are: \n",
      "1 . Habibi\n",
      "2 . The Year of Living Biblically: One Man's Humble Quest to Follow the Bible As Literally As Possible\n",
      "3 . Valis\n",
      "4 . Under the Banner of Heaven: A Story of Violent Faith\n",
      "5 . Plateforme\n",
      "6 . The Defining Decade: Why Your Twenties Matter--And How to Make the Most of Them Now\n",
      "7 . Triptych\n",
      "8 . Il Principe\n",
      "9 . Finale\n",
      "10 . The Wedding Girl\n"
     ]
    }
   ],
   "source": [
    "#Takes user input\n",
    "#In the app it will be the id of logged in user\n",
    "uid = int(input(\"\"))\n",
    "rat = r_matrix\n",
    "predi = []\n",
    "for i in range(rat.shape[1]):\n",
    "    if (rat[rat.columns[i]][uid] != 0):\n",
    "        predi.append(predict_item(uid , rat.columns[i], rat))\n",
    "    else:\n",
    "        predi.append(-1)\n",
    "predi = pd.Series(predi)\n",
    "predi = predi.sort_values(ascending = False)\n",
    "recommend = predi[:10]\n",
    "print (\"Recommended books are: \")\n",
    "for o in range(len(recommend)):\n",
    "    print ( o+1 ,'.' , books.BookName[recommend.index[o]])"
   ]
  },
  {
   "cell_type": "code",
   "execution_count": 33,
   "metadata": {},
   "outputs": [],
   "source": [
    "recommend_id = books.ISBN[recommend.index]"
   ]
  },
  {
   "cell_type": "code",
   "execution_count": 34,
   "metadata": {},
   "outputs": [],
   "source": [
    "#All the recommended book ids stored in arrays"
   ]
  },
  {
   "cell_type": "code",
   "execution_count": 35,
   "metadata": {},
   "outputs": [
    {
     "data": {
      "text/plain": [
       "36       37542414\n",
       "834     743291476\n",
       "416     812971892\n",
       "401     330419129\n",
       "850    1400030269\n",
       "Name: ISBN, dtype: int64"
      ]
     },
     "execution_count": 35,
     "metadata": {},
     "output_type": "execute_result"
    }
   ],
   "source": [
    "recommend_id.head()"
   ]
  },
  {
   "cell_type": "code",
   "execution_count": 36,
   "metadata": {},
   "outputs": [
    {
     "data": {
      "text/plain": [
       "1     385333218\n",
       "4     345403959\n",
       "5      15205221\n",
       "9      60684127\n",
       "12    394820371\n",
       "Name: ISBN, dtype: int64"
      ]
     },
     "execution_count": 36,
     "metadata": {},
     "output_type": "execute_result"
    }
   ],
   "source": [
    "most_rat_Id.head()"
   ]
  },
  {
   "cell_type": "code",
   "execution_count": 37,
   "metadata": {},
   "outputs": [
    {
     "data": {
      "text/plain": [
       "1805      74074847\n",
       "4232    1569319626\n",
       "3910     740748475\n",
       "2340     842339523\n",
       "4441     836213122\n",
       "Name: ISBN, dtype: int64"
      ]
     },
     "execution_count": 37,
     "metadata": {},
     "output_type": "execute_result"
    }
   ],
   "source": [
    "top_rated_id.head()"
   ]
  },
  {
   "cell_type": "code",
   "execution_count": null,
   "metadata": {},
   "outputs": [],
   "source": []
  }
 ],
 "metadata": {
  "kernelspec": {
   "display_name": "Python 3",
   "language": "python",
   "name": "python3"
  },
  "language_info": {
   "codemirror_mode": {
    "name": "ipython",
    "version": 3
   },
   "file_extension": ".py",
   "mimetype": "text/x-python",
   "name": "python",
   "nbconvert_exporter": "python",
   "pygments_lexer": "ipython3",
   "version": "3.6.7"
  }
 },
 "nbformat": 4,
 "nbformat_minor": 2
}
